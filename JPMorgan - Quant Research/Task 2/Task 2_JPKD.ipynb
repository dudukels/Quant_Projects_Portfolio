{
 "cells": [
  {
   "cell_type": "markdown",
   "metadata": {},
   "source": [
    "Here is the background information on your task\n",
    "\n",
    "Great work! The desk now has the price data they need. The final ingredient before they can begin trading with the client is the pricing model. Alex tells you the client wants to start trading as soon as possible. They believe the winter will be colder than expected, so they want to buy gas now to store and sell in winter in order to take advantage of the resulting increase in gas prices. They ask you to write a script that they can use to price the contract. Once the desk are happy, you will work with engineering, risk, and model validation to incorporate this model into production code.\n",
    "\n",
    "The concept is simple: any trade agreement is as valuable as the price you can sell minus the price at which you are able to buy. Any cost incurred as part of executing this agreement is also deducted from the overall value. So, for example, if I can purchase a million MMBtu of natural gas in summer at $2/MMBtu, store this for four months, and ensure that I can sell the same quantity at $3/MMBtu without incurring any additional costs, the value of this contract would be ($3-$2) *1e6 = $1million. If there are costs involved, such as having to pay the storage facility owner a fixed fee of $100K a month, then the 'value' of the contract, from my perspective, would drop by the overall rental amount to $600K. Another cost could be the injection/withdrawal cost, like having to pay the storage facility owner $10K per 1 million MMBtu for injection/withdrawal, then the price will further go down by $10K to $590K. Additionally, if I am supposed to foot a bill of $50K each time for transporting the gas to and from the facility, the cost of this contract would fall by another $100K. Think of the valuation as a fair estimate at which both the trading desk and the client would be happy to enter into the contract. "
   ]
  },
  {
   "cell_type": "markdown",
   "metadata": {},
   "source": [
    "You need to create a prototype pricing model that can go through further validation and testing before being put into production. Eventually, this model may be the basis for fully automated quoting to clients, but for now, the desk will use it with manual oversight to explore options with the client. \n",
    "\n",
    "You should write a function that is able to use the data you created previously to price the contract. The client may want to choose multiple dates to inject and withdraw a set amount of gas, so your approach should generalize the explanation from before. Consider all the cash flows involved in the product.\n",
    "\n",
    "The input parameters that should be taken into account for pricing are:\n",
    "\n",
    "Injection dates. \n",
    "Withdrawal dates.\n",
    "The prices at which the commodity can be purchased/sold on those dates.\n",
    "The rate at which the gas can be injected/withdrawn.\n",
    "The maximum volume that can be stored.\n",
    "Storage costs.\n",
    "\n",
    "Write a function that takes these inputs and gives back the value of the contract. You can assume there is no transport delay and that interest rates are zero. Market holidays, weekends, and bank holidays need not be accounted for. Test your code by selecting a few sample inputs."
   ]
  },
  {
   "cell_type": "markdown",
   "metadata": {},
   "source": [
    "inj_date = injection date, usually date at which natural gas is bought\n",
    "withd_date = withdrawal date, usually date at which natural gas is sold\n",
    "\n",
    "delta_t = time in storage [months] = withd_date - inj_date\n",
    "V = volume [MMBtu] bought \n",
    "B = buy price per unit [$/MMBtu]\n",
    "S = sell price per unit [$/MMBtu]\n",
    "IR = injection rate [$/MMBtu]\n",
    "V_max = maximum volume that can be stored [MMBtu]\n",
    "St_Cost_fixed = fixed cost [$/month] * delta_t [month] \n",
    "St_cost_variable = V [MMBtu] * ( storage rate [$/month] / V_max [MMBtu]) * delta_t [months]  = f(V, delta_t)\n",
    "\n",
    "TR_fixed = fixed cost to and from facility transport [$]\n",
    "TR_variable = ( transport cost for max volume [$] / V_max [MMBtu] ) * V [MMBtu] = f(V)\n",
    "\n",
    "Price of Contract = (S - B - IR)*V - St_Cost - TR_cost\n",
    "\n",
    "\n",
    "e.g.\n",
    "\n",
    "delta_t = 4 months\n",
    "V = 1 x 10^6 MMBtu\n",
    "B = 2 $/MMBtu\n",
    "S = 3 $/MMBtu\n",
    "IR = 10k$ / 1 x 10^6 MMBtu\n",
    "St_Cost_fixed = ( 100k$/month ) * delta_t\n",
    "St_Cost_variable = ( 100k$/month / V_max ) * V * delta_t\n",
    "\n",
    "TR_fixed = 2 transports * 50$ = 100k$\n",
    "TR_variable = (2 * 50k$ / V_max) * V\n",
    "\n",
    "\n",
    "Price of Contract = (3 - 2 - 10k/10^6) * 10^6 - (100k * 4) - (2 * 50k) \n",
    "\n"
   ]
  },
  {
   "cell_type": "code",
   "execution_count": null,
   "metadata": {},
   "outputs": [],
   "source": []
  },
  {
   "cell_type": "code",
   "execution_count": 1,
   "metadata": {},
   "outputs": [],
   "source": [
    "import pandas as pd"
   ]
  },
  {
   "cell_type": "code",
   "execution_count": 2,
   "metadata": {},
   "outputs": [],
   "source": [
    "# Read the CSV file\n",
    "df = pd.read_csv(\"Nat_Gas.csv\")"
   ]
  },
  {
   "cell_type": "code",
   "execution_count": 3,
   "metadata": {},
   "outputs": [
    {
     "data": {
      "text/html": [
       "<div>\n",
       "<style scoped>\n",
       "    .dataframe tbody tr th:only-of-type {\n",
       "        vertical-align: middle;\n",
       "    }\n",
       "\n",
       "    .dataframe tbody tr th {\n",
       "        vertical-align: top;\n",
       "    }\n",
       "\n",
       "    .dataframe thead th {\n",
       "        text-align: right;\n",
       "    }\n",
       "</style>\n",
       "<table border=\"1\" class=\"dataframe\">\n",
       "  <thead>\n",
       "    <tr style=\"text-align: right;\">\n",
       "      <th></th>\n",
       "      <th>Dates</th>\n",
       "      <th>Prices</th>\n",
       "    </tr>\n",
       "  </thead>\n",
       "  <tbody>\n",
       "    <tr>\n",
       "      <th>0</th>\n",
       "      <td>10/31/20</td>\n",
       "      <td>10.1</td>\n",
       "    </tr>\n",
       "    <tr>\n",
       "      <th>1</th>\n",
       "      <td>11/30/20</td>\n",
       "      <td>10.3</td>\n",
       "    </tr>\n",
       "    <tr>\n",
       "      <th>2</th>\n",
       "      <td>12/31/20</td>\n",
       "      <td>11.0</td>\n",
       "    </tr>\n",
       "    <tr>\n",
       "      <th>3</th>\n",
       "      <td>1/31/21</td>\n",
       "      <td>10.9</td>\n",
       "    </tr>\n",
       "    <tr>\n",
       "      <th>4</th>\n",
       "      <td>2/28/21</td>\n",
       "      <td>10.9</td>\n",
       "    </tr>\n",
       "  </tbody>\n",
       "</table>\n",
       "</div>"
      ],
      "text/plain": [
       "      Dates  Prices\n",
       "0  10/31/20    10.1\n",
       "1  11/30/20    10.3\n",
       "2  12/31/20    11.0\n",
       "3   1/31/21    10.9\n",
       "4   2/28/21    10.9"
      ]
     },
     "execution_count": 3,
     "metadata": {},
     "output_type": "execute_result"
    }
   ],
   "source": [
    "df.head()\n",
    "#Prices column is the historical Purchase Price per MMBtu"
   ]
  },
  {
   "cell_type": "code",
   "execution_count": 4,
   "metadata": {},
   "outputs": [
    {
     "data": {
      "text/html": [
       "<div>\n",
       "<style scoped>\n",
       "    .dataframe tbody tr th:only-of-type {\n",
       "        vertical-align: middle;\n",
       "    }\n",
       "\n",
       "    .dataframe tbody tr th {\n",
       "        vertical-align: top;\n",
       "    }\n",
       "\n",
       "    .dataframe thead th {\n",
       "        text-align: right;\n",
       "    }\n",
       "</style>\n",
       "<table border=\"1\" class=\"dataframe\">\n",
       "  <thead>\n",
       "    <tr style=\"text-align: right;\">\n",
       "      <th></th>\n",
       "      <th>Dates</th>\n",
       "      <th>Prices</th>\n",
       "    </tr>\n",
       "  </thead>\n",
       "  <tbody>\n",
       "    <tr>\n",
       "      <th>43</th>\n",
       "      <td>5/31/24</td>\n",
       "      <td>11.4</td>\n",
       "    </tr>\n",
       "    <tr>\n",
       "      <th>44</th>\n",
       "      <td>6/30/24</td>\n",
       "      <td>11.5</td>\n",
       "    </tr>\n",
       "    <tr>\n",
       "      <th>45</th>\n",
       "      <td>7/31/24</td>\n",
       "      <td>11.6</td>\n",
       "    </tr>\n",
       "    <tr>\n",
       "      <th>46</th>\n",
       "      <td>8/31/24</td>\n",
       "      <td>11.5</td>\n",
       "    </tr>\n",
       "    <tr>\n",
       "      <th>47</th>\n",
       "      <td>9/30/24</td>\n",
       "      <td>11.8</td>\n",
       "    </tr>\n",
       "  </tbody>\n",
       "</table>\n",
       "</div>"
      ],
      "text/plain": [
       "      Dates  Prices\n",
       "43  5/31/24    11.4\n",
       "44  6/30/24    11.5\n",
       "45  7/31/24    11.6\n",
       "46  8/31/24    11.5\n",
       "47  9/30/24    11.8"
      ]
     },
     "execution_count": 4,
     "metadata": {},
     "output_type": "execute_result"
    }
   ],
   "source": [
    "df.tail()"
   ]
  },
  {
   "cell_type": "code",
   "execution_count": 5,
   "metadata": {},
   "outputs": [
    {
     "name": "stdout",
     "output_type": "stream",
     "text": [
      "<class 'pandas.core.frame.DataFrame'>\n",
      "RangeIndex: 48 entries, 0 to 47\n",
      "Data columns (total 2 columns):\n",
      " #   Column  Non-Null Count  Dtype  \n",
      "---  ------  --------------  -----  \n",
      " 0   Dates   48 non-null     object \n",
      " 1   Prices  48 non-null     float64\n",
      "dtypes: float64(1), object(1)\n",
      "memory usage: 896.0+ bytes\n"
     ]
    }
   ],
   "source": [
    "df.info()"
   ]
  },
  {
   "cell_type": "code",
   "execution_count": 6,
   "metadata": {},
   "outputs": [
    {
     "data": {
      "text/plain": [
       "<Axes: >"
      ]
     },
     "execution_count": 6,
     "metadata": {},
     "output_type": "execute_result"
    },
    {
     "data": {
      "image/png": "[encoded data removed]",
      "text/plain": [
       "<Figure size 640x480 with 1 Axes>"
      ]
     },
     "metadata": {},
     "output_type": "display_data"
    }
   ],
   "source": [
    "df.plot()"
   ]
  },
  {
   "cell_type": "code",
   "execution_count": 20,
   "metadata": {},
   "outputs": [
    {
     "name": "stderr",
     "output_type": "stream",
     "text": [
      "C:\\Users\\jpkdu\\AppData\\Local\\Temp\\ipykernel_5556\\4071609887.py:14: UserWarning: Could not infer format, so each element will be parsed individually, falling back to `dateutil`. To ensure parsing is consistent and as-expected, please specify a format.\n",
      "  input_data = {'inj_date':pd.to_datetime(inj_date_ser), 'withd_date':pd.to_datetime(withd_date_ser), 'B':B_ser, 'S':S_ser, 'V':V_ser}\n",
      "C:\\Users\\jpkdu\\AppData\\Local\\Temp\\ipykernel_5556\\4071609887.py:14: UserWarning: Could not infer format, so each element will be parsed individually, falling back to `dateutil`. To ensure parsing is consistent and as-expected, please specify a format.\n",
      "  input_data = {'inj_date':pd.to_datetime(inj_date_ser), 'withd_date':pd.to_datetime(withd_date_ser), 'B':B_ser, 'S':S_ser, 'V':V_ser}\n"
     ]
    }
   ],
   "source": [
    "import pandas as pd\n",
    "import numpy as np\n",
    "import datetime \n",
    "\n",
    "\n",
    "# manual inputs\n",
    "inj_date_ser = pd.Series(['5/31/24', '11/30/20','6/30/24'])\n",
    "withd_date_ser = pd.Series(['9/30/24', '1/31/21','10/31/24'])\n",
    "B_ser = pd.Series([11.4, 10.3, 2])\n",
    "S_ser = pd.Series([11.8, 10.9, 3])\n",
    "V_ser = pd.Series([1e6, 3e6, 1e6]) # MMBtu\n",
    "\n",
    "\n",
    "input_data = {'inj_date':pd.to_datetime(inj_date_ser), 'withd_date':pd.to_datetime(withd_date_ser), 'B':B_ser, 'S':S_ser, 'V':V_ser}\n",
    "input_df = pd.DataFrame(data=input_data)\n",
    "\n",
    "\n",
    "\n",
    "# takes in input_df dataframe (since, in most cases, data will be coming from csv files) and cost rates as inputs\n",
    "# columns of input_df: (inj_date, withd_date, B, S, V, Vmax=1e6)\n",
    "# for any pair of inject & withdraw dates, assume their own set volume\n",
    "\n",
    "\n",
    "def NG_contract_price(input_df, Vmax=1e6, IR=10000/1e6, St_Cost=100000, TR_Cost=50000):\n",
    "\n",
    "    delta_t_ser = (pd.to_datetime(input_df['withd_date']) - pd.to_datetime(input_df['inj_date'])).apply(lambda x : x.days // 30.44) # 30.44 is the approximate \n",
    "\n",
    "    st_cost_var = (St_Cost / Vmax) * input_df['V'] * delta_t_ser\n",
    "\n",
    "    tr_cost_var = (2 * TR_Cost / Vmax) * input_df['V']\n",
    "\n",
    "    price_of_contract = (input_df['S'] - input_df['B'] - IR)*input_df['V'] - st_cost_var - tr_cost_var\n",
    "\n",
    "    \n",
    "\n",
    "    return price_of_contract # returns a df with columns inj_date, withd_date, B, S, V, price of contract\n",
    "\n"
   ]
  },
  {
   "cell_type": "code",
   "execution_count": 24,
   "metadata": {},
   "outputs": [
    {
     "data": {
      "text/html": [
       "<div>\n",
       "<style scoped>\n",
       "    .dataframe tbody tr th:only-of-type {\n",
       "        vertical-align: middle;\n",
       "    }\n",
       "\n",
       "    .dataframe tbody tr th {\n",
       "        vertical-align: top;\n",
       "    }\n",
       "\n",
       "    .dataframe thead th {\n",
       "        text-align: right;\n",
       "    }\n",
       "</style>\n",
       "<table border=\"1\" class=\"dataframe\">\n",
       "  <thead>\n",
       "    <tr style=\"text-align: right;\">\n",
       "      <th></th>\n",
       "      <th>inj_date</th>\n",
       "      <th>withd_date</th>\n",
       "      <th>B</th>\n",
       "      <th>S</th>\n",
       "      <th>V</th>\n",
       "    </tr>\n",
       "  </thead>\n",
       "  <tbody>\n",
       "    <tr>\n",
       "      <th>0</th>\n",
       "      <td>2024-05-31</td>\n",
       "      <td>2024-09-30</td>\n",
       "      <td>11.4</td>\n",
       "      <td>11.8</td>\n",
       "      <td>1000000.0</td>\n",
       "    </tr>\n",
       "    <tr>\n",
       "      <th>1</th>\n",
       "      <td>2020-11-30</td>\n",
       "      <td>2021-01-31</td>\n",
       "      <td>10.3</td>\n",
       "      <td>10.9</td>\n",
       "      <td>3000000.0</td>\n",
       "    </tr>\n",
       "    <tr>\n",
       "      <th>2</th>\n",
       "      <td>2024-06-30</td>\n",
       "      <td>2024-10-31</td>\n",
       "      <td>2.0</td>\n",
       "      <td>3.0</td>\n",
       "      <td>1000000.0</td>\n",
       "    </tr>\n",
       "  </tbody>\n",
       "</table>\n",
       "</div>"
      ],
      "text/plain": [
       "    inj_date withd_date     B     S          V\n",
       "0 2024-05-31 2024-09-30  11.4  11.8  1000000.0\n",
       "1 2020-11-30 2021-01-31  10.3  10.9  3000000.0\n",
       "2 2024-06-30 2024-10-31   2.0   3.0  1000000.0"
      ]
     },
     "execution_count": 24,
     "metadata": {},
     "output_type": "execute_result"
    }
   ],
   "source": [
    "input_df # for small data test"
   ]
  },
  {
   "cell_type": "code",
   "execution_count": 23,
   "metadata": {},
   "outputs": [
    {
     "data": {
      "text/plain": [
       "0   -110000.0\n",
       "1    870000.0\n",
       "2    490000.0\n",
       "dtype: float64"
      ]
     },
     "execution_count": 23,
     "metadata": {},
     "output_type": "execute_result"
    }
   ],
   "source": [
    "NG_contract_price(input_df=input_df) # cost rates used as default inputs"
   ]
  },
  {
   "cell_type": "code",
   "execution_count": 29,
   "metadata": {},
   "outputs": [
    {
     "data": {
      "text/plain": [
       "1249999.999999999"
      ]
     },
     "execution_count": 29,
     "metadata": {},
     "output_type": "execute_result"
    }
   ],
   "source": [
    "NG_contract_price(input_df=input_df).sum()"
   ]
  },
  {
   "cell_type": "code",
   "execution_count": null,
   "metadata": {},
   "outputs": [],
   "source": []
  }
 ],
 "metadata": {
  "kernelspec": {
   "display_name": "Python 3",
   "language": "python",
   "name": "python3"
  },
  "language_info": {
   "codemirror_mode": {
    "name": "ipython",
    "version": 3
   },
   "file_extension": ".py",
   "mimetype": "text/x-python",
   "name": "python",
   "nbconvert_exporter": "python",
   "pygments_lexer": "ipython3",
   "version": "3.11.1"
  }
 },
 "nbformat": 4,
 "nbformat_minor": 2
}
